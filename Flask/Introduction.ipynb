{
 "cells": [
  {
   "cell_type": "markdown",
   "id": "832f8f42",
   "metadata": {},
   "source": [
    "Flask Framework"
   ]
  },
  {
   "cell_type": "markdown",
   "id": "3ea954fe",
   "metadata": {},
   "source": [
    "WSGI- web server gateway interface"
   ]
  },
  {
   "cell_type": "markdown",
   "id": "976f96d8",
   "metadata": {},
   "source": [
    "Jinja 2 template engine"
   ]
  },
  {
   "cell_type": "markdown",
   "id": "c31e6a44",
   "metadata": {},
   "source": [
    "Flask- Web Framework which is created with the python programming language."
   ]
  },
  {
   "cell_type": "markdown",
   "id": "27991fa6",
   "metadata": {},
   "source": []
  }
 ],
 "metadata": {
  "language_info": {
   "name": "python"
  }
 },
 "nbformat": 4,
 "nbformat_minor": 5
}
