{
 "cells": [
  {
   "cell_type": "markdown",
   "id": "fdb25167",
   "metadata": {},
   "source": [
    "1. Program\n",
    "2. Process\n",
    "3. Threads\n",
    "4. Examples of process and Thread\n"
   ]
  },
  {
   "cell_type": "markdown",
   "id": "37aa407c",
   "metadata": {},
   "source": [
    "1. Program is a sequence of instructions written in programming language.\n",
    "Exa- Google Chrome....exe--program==browser should work,\n",
    "word,excel"
   ]
  },
  {
   "cell_type": "markdown",
   "id": "5f467961",
   "metadata": {},
   "source": [
    "2. A process is simply an instance of a program that is being executed.\n",
    "1. One process cannot corrupt another process\n",
    "2. I/O requirements\n",
    "3. Incresed Excecution time to switch between process.\n",
    "Exa: Browser, excel--process id, app--process"
   ]
  },
  {
   "cell_type": "markdown",
   "id": "dc110ca0",
   "metadata": {},
   "source": [
    "3.Thread- A thread is a unit of execution within a process.\n",
    "1. Single threaded process-\n",
    "exa--mspaint--rectangle,box===differemt thread\n",
    "2. Multi threaded process-\n",
    "\n"
   ]
  }
 ],
 "metadata": {
  "language_info": {
   "name": "python"
  }
 },
 "nbformat": 4,
 "nbformat_minor": 5
}
