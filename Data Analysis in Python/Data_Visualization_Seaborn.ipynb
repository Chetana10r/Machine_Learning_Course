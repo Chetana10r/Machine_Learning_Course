{
 "cells": [
  {
   "cell_type": "markdown",
   "id": "bea1c00c",
   "metadata": {},
   "source": [
    "Data Visualization with Seaborn"
   ]
  },
  {
   "cell_type": "markdown",
   "id": "25014007",
   "metadata": {},
   "source": [
    "Seaborn is a python visualization library based on matplotlib that provides a high-level interface for drawing attractive and 'infromative statistical graphics. Seaborn helps in creating complex visulaizations with just a few lines of code. In this lesson, we will cover the basics of Seaborn, inclusing creating various types of plots and customizing them."
   ]
  },
  {
   "cell_type": "markdown",
   "id": "5e479ea7",
   "metadata": {},
   "source": []
  }
 ],
 "metadata": {
  "language_info": {
   "name": "python"
  }
 },
 "nbformat": 4,
 "nbformat_minor": 5
}
