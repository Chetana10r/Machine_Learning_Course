{
 "cells": [
  {
   "cell_type": "markdown",
   "id": "8589cdb8",
   "metadata": {},
   "source": [
    "Data Manipulation and analysis with pandas"
   ]
  },
  {
   "cell_type": "markdown",
   "id": "ca4b84cd",
   "metadata": {},
   "source": [
    "Data manipulation and analysis are key tasks in any data science or data analysis project. pandas provides a wide range of functions for data manipulation and analysis, making it easier to clean,transform, and extract insights from data. In this lesson, we will cover various data manipulation ad analysis techniques using pandas."
   ]
  }
 ],
 "metadata": {
  "language_info": {
   "name": "python"
  }
 },
 "nbformat": 4,
 "nbformat_minor": 5
}
