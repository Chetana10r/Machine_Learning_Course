{
 "cells": [
  {
   "cell_type": "markdown",
   "id": "eb023fe7",
   "metadata": {},
   "source": [
    "Numpy"
   ]
  },
  {
   "cell_type": "markdown",
   "id": "40165f41",
   "metadata": {},
   "source": [
    "Numpy is the fundamental library for scientific computing in Python. It provides support for arrays and matrices, along with a collection of mathematical functions to operate on these data structures. In this lesson, we will cover the basics of numpy, focusing on arrays and vertorized operations."
   ]
  },
  {
   "cell_type": "code",
   "execution_count": 1,
   "id": "ed6d6d9e",
   "metadata": {},
   "outputs": [],
   "source": [
    "import numpy as np"
   ]
  },
  {
   "cell_type": "code",
   "execution_count": 3,
   "id": "eac5c140",
   "metadata": {},
   "outputs": [
    {
     "name": "stdout",
     "output_type": "stream",
     "text": [
      "[1 2 3 4 5 6]\n",
      "<class 'numpy.ndarray'>\n",
      "(6,)\n"
     ]
    }
   ],
   "source": [
    "##create array using numpy\n",
    "##create a 1D array\n",
    "\n",
    "arr1=np.array([1,2,3,4,5,6])\n",
    "print(arr1)\n",
    "print(type(arr1))\n",
    "print(arr1.shape)"
   ]
  },
  {
   "cell_type": "markdown",
   "id": "f3090d9b",
   "metadata": {},
   "source": [
    "1D Array"
   ]
  },
  {
   "cell_type": "code",
   "execution_count": 6,
   "id": "97a8bf3b",
   "metadata": {},
   "outputs": [
    {
     "data": {
      "text/plain": [
       "array([[1, 2, 3, 4, 5, 6]])"
      ]
     },
     "execution_count": 6,
     "metadata": {},
     "output_type": "execute_result"
    }
   ],
   "source": [
    "arr2=np.array([1,2,3,4,5,6])\n",
    "arr2.reshape(1,6)  ##1 row and 5 columns"
   ]
  },
  {
   "cell_type": "markdown",
   "id": "45424109",
   "metadata": {},
   "source": [
    "2D Array"
   ]
  },
  {
   "cell_type": "code",
   "execution_count": null,
   "id": "f4a816e1",
   "metadata": {},
   "outputs": [
    {
     "name": "stdout",
     "output_type": "stream",
     "text": [
      "[[1 2 3 4 5]\n",
      " [2 3 4 5 6]]\n",
      "(2, 5)\n"
     ]
    }
   ],
   "source": [
    "\n",
    "\n",
    "arr2=np.array([[1,2,3,4,5],[2,3,4,5,6]])\n",
    "print(arr2)\n",
    "print(arr2.shape)"
   ]
  },
  {
   "cell_type": "code",
   "execution_count": 11,
   "id": "59f44569",
   "metadata": {},
   "outputs": [
    {
     "data": {
      "text/plain": [
       "array([0, 2, 4, 6, 8])"
      ]
     },
     "execution_count": 11,
     "metadata": {},
     "output_type": "execute_result"
    }
   ],
   "source": [
    "np.arange(0,10,2)"
   ]
  },
  {
   "cell_type": "code",
   "execution_count": 12,
   "id": "a052ff77",
   "metadata": {},
   "outputs": [
    {
     "data": {
      "text/plain": [
       "array([[0],\n",
       "       [2],\n",
       "       [4],\n",
       "       [6],\n",
       "       [8]])"
      ]
     },
     "execution_count": 12,
     "metadata": {},
     "output_type": "execute_result"
    }
   ],
   "source": [
    "np.arange(0,10,2).reshape(5,1)"
   ]
  },
  {
   "cell_type": "code",
   "execution_count": 13,
   "id": "32c552c7",
   "metadata": {},
   "outputs": [
    {
     "data": {
      "text/plain": [
       "array([[1., 1., 1., 1.],\n",
       "       [1., 1., 1., 1.],\n",
       "       [1., 1., 1., 1.]])"
      ]
     },
     "execution_count": 13,
     "metadata": {},
     "output_type": "execute_result"
    }
   ],
   "source": [
    "np.ones((3,4))"
   ]
  },
  {
   "cell_type": "code",
   "execution_count": 14,
   "id": "abff2284",
   "metadata": {},
   "outputs": [
    {
     "data": {
      "text/plain": [
       "array([[1., 0., 0.],\n",
       "       [0., 1., 0.],\n",
       "       [0., 0., 1.]])"
      ]
     },
     "execution_count": 14,
     "metadata": {},
     "output_type": "execute_result"
    }
   ],
   "source": [
    "##Identity matrix\n",
    "\n",
    "np.eye(3)"
   ]
  },
  {
   "cell_type": "markdown",
   "id": "1b69ab18",
   "metadata": {},
   "source": [
    "Attributes of numpy array"
   ]
  },
  {
   "cell_type": "code",
   "execution_count": 22,
   "id": "a7e9ce55",
   "metadata": {},
   "outputs": [
    {
     "name": "stdout",
     "output_type": "stream",
     "text": [
      "Array: \n",
      " [[1 2 3]\n",
      " [4 5 6]]\n",
      "Shape:  (2, 3)\n",
      "Number of dimensions:  6\n",
      "Size (number of elements):  6\n",
      "Data Type:  int32\n",
      "Item size (in bytes):  4\n"
     ]
    }
   ],
   "source": [
    "arr=np.array([[1,2,3],[4,5,6]])\n",
    "\n",
    "print(\"Array: \\n\",arr)\n",
    "print(\"Shape: \",arr.shape)\n",
    "print(\"Number of dimensions: \",arr.size)\n",
    "print(\"Size (number of elements): \", arr.size)\n",
    "print(\"Data Type: \",arr.dtype)\n",
    "print(\"Item size (in bytes): \",arr.itemsize)"
   ]
  },
  {
   "cell_type": "markdown",
   "id": "1ed5d29e",
   "metadata": {},
   "source": [
    "Numpy Vectorized Operation"
   ]
  },
  {
   "cell_type": "code",
   "execution_count": 21,
   "id": "7fc55182",
   "metadata": {},
   "outputs": [
    {
     "name": "stdout",
     "output_type": "stream",
     "text": [
      "Addition:  [11 22 33 44 55]\n",
      "SUbstraction:  [ -9 -18 -27 -36 -45]\n",
      "Multiplication:  [ 10  40  90 160 250]\n",
      "Division:  [0.1 0.1 0.1 0.1 0.1]\n"
     ]
    }
   ],
   "source": [
    "arr1=np.array([1,2,3,4,5])\n",
    "arr2=np.array([10,20,30,40,50])\n",
    "\n",
    "#Element wise addition\n",
    "print(\"Addition: \",arr1+arr2)\n",
    "\n",
    "#Element wise substraction\n",
    "print(\"SUbstraction: \", arr1-arr2)\n",
    "\n",
    "#Element wise multiplication\n",
    "print(\"Multiplication: \",arr1*arr2)\n",
    "\n",
    "#Element wise division\n",
    "print(\"Division: \",arr1/arr2)"
   ]
  },
  {
   "cell_type": "markdown",
   "id": "313d6d7e",
   "metadata": {},
   "source": [
    "Universal Function"
   ]
  },
  {
   "cell_type": "code",
   "execution_count": 25,
   "id": "1ef98148",
   "metadata": {},
   "outputs": [
    {
     "name": "stdout",
     "output_type": "stream",
     "text": [
      "[1.41421356 1.73205081 2.         2.23606798 2.44948974]\n",
      "[  7.3890561   20.08553692  54.59815003 148.4131591  403.42879349]\n",
      "[ 0.90929743  0.14112001 -0.7568025  -0.95892427 -0.2794155 ]\n",
      "[0.69314718 1.09861229 1.38629436 1.60943791 1.79175947]\n"
     ]
    }
   ],
   "source": [
    "arr=np.array([2,3,4,5,6])\n",
    "\n",
    "#square root\n",
    "print(np.sqrt(arr))\n",
    "\n",
    "#Exponential\n",
    "print(np.exp(arr))\n",
    "\n",
    "#Sine\n",
    "print(np.sin(arr))\n",
    "\n",
    "#Natural Log\n",
    "print(np.log(arr))"
   ]
  },
  {
   "cell_type": "markdown",
   "id": "c1f091d5",
   "metadata": {},
   "source": [
    "Array Slicing and Indexing"
   ]
  },
  {
   "cell_type": "code",
   "execution_count": 26,
   "id": "4c09e70f",
   "metadata": {},
   "outputs": [
    {
     "name": "stdout",
     "output_type": "stream",
     "text": [
      "Array: \n",
      " [[ 1  2  3  4  5]\n",
      " [ 5  6  7  8  9]\n",
      " [10 11 12 13 14]]\n"
     ]
    }
   ],
   "source": [
    "arr=np.array([[1,2,3,4,5],[5,6,7,8,9],[10,11,12,13,14]])\n",
    "print(\"Array: \\n\",arr)"
   ]
  },
  {
   "cell_type": "code",
   "execution_count": 29,
   "id": "94d488a2",
   "metadata": {},
   "outputs": [
    {
     "data": {
      "text/plain": [
       "1"
      ]
     },
     "execution_count": 29,
     "metadata": {},
     "output_type": "execute_result"
    }
   ],
   "source": [
    "arr[0][0]"
   ]
  },
  {
   "cell_type": "code",
   "execution_count": 30,
   "id": "2bfaff5f",
   "metadata": {},
   "outputs": [
    {
     "data": {
      "text/plain": [
       "array([[10, 11, 12, 13, 14]])"
      ]
     },
     "execution_count": 30,
     "metadata": {},
     "output_type": "execute_result"
    }
   ],
   "source": [
    "arr[2:]"
   ]
  },
  {
   "cell_type": "code",
   "execution_count": 31,
   "id": "e0e911e9",
   "metadata": {},
   "outputs": [
    {
     "data": {
      "text/plain": [
       "array([[ 7,  8,  9],\n",
       "       [12, 13, 14]])"
      ]
     },
     "execution_count": 31,
     "metadata": {},
     "output_type": "execute_result"
    }
   ],
   "source": [
    "arr[1:,2:]"
   ]
  },
  {
   "cell_type": "code",
   "execution_count": 35,
   "id": "9838c941",
   "metadata": {},
   "outputs": [
    {
     "data": {
      "text/plain": [
       "array([[3, 4, 5],\n",
       "       [7, 8, 9]])"
      ]
     },
     "execution_count": 35,
     "metadata": {},
     "output_type": "execute_result"
    }
   ],
   "source": [
    "arr[0:2,2:]"
   ]
  },
  {
   "cell_type": "code",
   "execution_count": 42,
   "id": "86b27373",
   "metadata": {},
   "outputs": [
    {
     "data": {
      "text/plain": [
       "array([[6, 7, 8]])"
      ]
     },
     "execution_count": 42,
     "metadata": {},
     "output_type": "execute_result"
    }
   ],
   "source": [
    "arr[1:2,1:4]"
   ]
  },
  {
   "cell_type": "markdown",
   "id": "0105c158",
   "metadata": {},
   "source": [
    "Modify array elements"
   ]
  },
  {
   "cell_type": "code",
   "execution_count": 44,
   "id": "5bd1651a",
   "metadata": {},
   "outputs": [
    {
     "data": {
      "text/plain": [
       "array([[100,   2,   3,   4,   5],\n",
       "       [  5,   6,   7,   8,   9],\n",
       "       [ 10,  11,  12,  13,  14]])"
      ]
     },
     "execution_count": 44,
     "metadata": {},
     "output_type": "execute_result"
    }
   ],
   "source": [
    "arr[0,0]=100\n",
    "arr"
   ]
  },
  {
   "cell_type": "code",
   "execution_count": 46,
   "id": "d49a5915",
   "metadata": {},
   "outputs": [
    {
     "data": {
      "text/plain": [
       "array([[100,   2,   3,   4,   5],\n",
       "       [100, 100, 100, 100, 100],\n",
       "       [100, 100, 100, 100, 100]])"
      ]
     },
     "execution_count": 46,
     "metadata": {},
     "output_type": "execute_result"
    }
   ],
   "source": [
    "arr[1:]=100\n",
    "arr"
   ]
  },
  {
   "cell_type": "markdown",
   "id": "c822f471",
   "metadata": {},
   "source": [
    "Statistical Concepts-Normalization"
   ]
  },
  {
   "cell_type": "markdown",
   "id": "69f7a9ae",
   "metadata": {},
   "source": [
    "To have a mean of 0 and standard deviation of 1"
   ]
  },
  {
   "cell_type": "code",
   "execution_count": 47,
   "id": "7c511b8e",
   "metadata": {},
   "outputs": [],
   "source": [
    "data=np.array([1,2,3,4,5])"
   ]
  },
  {
   "cell_type": "markdown",
   "id": "a54da4b5",
   "metadata": {},
   "source": [
    "Calculate the mean and standard deviation"
   ]
  },
  {
   "cell_type": "code",
   "execution_count": 48,
   "id": "043f3d88",
   "metadata": {},
   "outputs": [],
   "source": [
    "mean=np.mean(data)\n",
    "std_dev=np.std(data)"
   ]
  },
  {
   "cell_type": "markdown",
   "id": "bd639651",
   "metadata": {},
   "source": [
    "Normalize the data"
   ]
  },
  {
   "cell_type": "code",
   "execution_count": 49,
   "id": "f5264085",
   "metadata": {},
   "outputs": [
    {
     "name": "stdout",
     "output_type": "stream",
     "text": [
      "Normalized data:  [-1.41421356 -0.70710678  0.          0.70710678  1.41421356]\n"
     ]
    }
   ],
   "source": [
    "normalized_data=(data-mean) / std_dev\n",
    "print(\"Normalized data: \", normalized_data)"
   ]
  },
  {
   "cell_type": "code",
   "execution_count": 50,
   "id": "5dceaa3e",
   "metadata": {},
   "outputs": [
    {
     "name": "stdout",
     "output_type": "stream",
     "text": [
      "Mean:  7.111111111111111\n",
      "Median:  7.0\n",
      "std:  2.7666443551086073\n",
      "Mean:  7.65432098765432\n"
     ]
    }
   ],
   "source": [
    "data= np.array([12,3,4,5,6,7,8,9,10])\n",
    "\n",
    "#Mean\n",
    "mean=np.mean(data)\n",
    "print(\"Mean: \",mean)\n",
    "\n",
    "#Median\n",
    "median=np.median(data)\n",
    "print(\"Median: \",median)\n",
    "\n",
    "#Standard Deviation\n",
    "std=np.std(data)\n",
    "print(\"std: \",std)\n",
    "\n",
    "#Variance\n",
    "var=np.var(data)\n",
    "print(\"Mean: \",var)"
   ]
  },
  {
   "cell_type": "markdown",
   "id": "17912220",
   "metadata": {},
   "source": [
    "## Logical Operation"
   ]
  },
  {
   "cell_type": "code",
   "execution_count": 51,
   "id": "3bf2e34d",
   "metadata": {},
   "outputs": [
    {
     "data": {
      "text/plain": [
       "array([False, False, False, False, False,  True,  True,  True,  True,\n",
       "        True])"
      ]
     },
     "execution_count": 51,
     "metadata": {},
     "output_type": "execute_result"
    }
   ],
   "source": [
    "data=np.array([1,2,3,4,5,6,7,8,9,10])\n",
    "\n",
    "data>5"
   ]
  },
  {
   "cell_type": "code",
   "execution_count": 55,
   "id": "9d77f358",
   "metadata": {},
   "outputs": [
    {
     "data": {
      "text/plain": [
       "array([6, 7, 8])"
      ]
     },
     "execution_count": 55,
     "metadata": {},
     "output_type": "execute_result"
    }
   ],
   "source": [
    "data[(data>5) & (data<=8)]"
   ]
  },
  {
   "cell_type": "code",
   "execution_count": null,
   "id": "3c361f8c",
   "metadata": {},
   "outputs": [],
   "source": []
  }
 ],
 "metadata": {
  "kernelspec": {
   "display_name": "base",
   "language": "python",
   "name": "python3"
  },
  "language_info": {
   "codemirror_mode": {
    "name": "ipython",
    "version": 3
   },
   "file_extension": ".py",
   "mimetype": "text/x-python",
   "name": "python",
   "nbconvert_exporter": "python",
   "pygments_lexer": "ipython3",
   "version": "3.12.7"
  }
 },
 "nbformat": 4,
 "nbformat_minor": 5
}
