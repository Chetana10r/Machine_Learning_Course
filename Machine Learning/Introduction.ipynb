{
 "cells": [
  {
   "cell_type": "markdown",
   "id": "e83cb428",
   "metadata": {},
   "source": [
    "AI- To create an application which can perform its own task without any human intervention.\n",
    "Exa- Netflix recommendation system, Self Driving Car"
   ]
  },
  {
   "cell_type": "markdown",
   "id": "c95f4314",
   "metadata": {},
   "source": [
    "ML- It provides stats tools to analyze, visualize, prediction, forecasting the data."
   ]
  },
  {
   "cell_type": "markdown",
   "id": "6e5b5a55",
   "metadata": {},
   "source": [
    "Deep Learning- hemic the human brain, how human think"
   ]
  },
  {
   "cell_type": "markdown",
   "id": "ca40e1c6",
   "metadata": {},
   "source": [
    "Data Science- Is used in everysector"
   ]
  },
  {
   "cell_type": "markdown",
   "id": "09c052a3",
   "metadata": {},
   "source": [
    "Machine learning types:\n",
    "1. Supervised Machine Learning- Regressin- continuous ,  Classification- categorical"
   ]
  },
  {
   "cell_type": "markdown",
   "id": "561fa46f",
   "metadata": {},
   "source": [
    "2. Unsupervised Machine Learning- (Customer segementation)-clusters"
   ]
  },
  {
   "cell_type": "markdown",
   "id": "fcc69103",
   "metadata": {},
   "source": [
    "Types-"
   ]
  },
  {
   "cell_type": "markdown",
   "id": "7bdfc53f",
   "metadata": {},
   "source": [
    "Supervised-\n",
    "1. Linear Regression\n",
    "2. Ridge and Lasso\n",
    "3. ElasticNet\n",
    "4. Logistic Regression\n",
    "5. DT\n",
    "6. RF\n",
    "7. AdaBoost\n",
    "8. XGBoost"
   ]
  },
  {
   "cell_type": "markdown",
   "id": "545126ea",
   "metadata": {},
   "source": [
    "Unsupervised-\n",
    "1. K Means\n",
    "2. Hierarchial Mean\n",
    "3. DBScan Clustering"
   ]
  },
  {
   "cell_type": "markdown",
   "id": "5e92009b",
   "metadata": {},
   "source": [
    "Reinforcement Learning-\n",
    "Baby learning different things"
   ]
  }
 ],
 "metadata": {
  "language_info": {
   "name": "python"
  }
 },
 "nbformat": 4,
 "nbformat_minor": 5
}
