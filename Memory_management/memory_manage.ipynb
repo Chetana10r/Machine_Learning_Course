{
 "cells": [
  {
   "cell_type": "markdown",
   "id": "04e39283",
   "metadata": {},
   "source": [
    "Python Memory Management"
   ]
  },
  {
   "cell_type": "markdown",
   "id": "b5d5de60",
   "metadata": {},
   "source": [
    "Memory management in Python involves a combination of automatic garbage collection, reference counting, and various internal optimizations to efficiently manage memory allocation and deallocation. Understanding these mechanisms can help developers write more efficient and robust applications."
   ]
  },
  {
   "cell_type": "markdown",
   "id": "cb547b43",
   "metadata": {},
   "source": [
    "1. Key Concepts in Python memory management\n",
    "2. Memory Allocation and Deallocation\n",
    "3. reference Counting\n",
    "4. Garbage Collection\n",
    "5. The gc Module\n",
    "6. Memory management best practices"
   ]
  },
  {
   "cell_type": "markdown",
   "id": "fdeeb563",
   "metadata": {},
   "source": [
    "## Reference Counting"
   ]
  },
  {
   "cell_type": "markdown",
   "id": "33f10fe5",
   "metadata": {},
   "source": [
    "Reference Counting is the primary method Python uses to manage memory. Each object in Python maintains a count of references pointing to it. When the reference count drops to zero, the memory occupied by the object is deallocated.\n"
   ]
  },
  {
   "cell_type": "code",
   "execution_count": 1,
   "id": "6d57de30",
   "metadata": {},
   "outputs": [
    {
     "name": "stdout",
     "output_type": "stream",
     "text": [
      "2\n"
     ]
    }
   ],
   "source": [
    "import sys\n",
    "\n",
    "a=[]\n",
    "## 2(one reference from 'a' and one from getrefcount())\n",
    "print(sys.getrefcount(a))\n"
   ]
  },
  {
   "cell_type": "code",
   "execution_count": 3,
   "id": "05be691b",
   "metadata": {},
   "outputs": [
    {
     "name": "stdout",
     "output_type": "stream",
     "text": [
      "3\n"
     ]
    }
   ],
   "source": [
    "b=a\n",
    "print(sys.getrefcount(b))"
   ]
  },
  {
   "cell_type": "code",
   "execution_count": 4,
   "id": "4b1f6d05",
   "metadata": {},
   "outputs": [
    {
     "name": "stdout",
     "output_type": "stream",
     "text": [
      "2\n"
     ]
    }
   ],
   "source": [
    "del b\n",
    "print(sys.getrefcount(a))"
   ]
  },
  {
   "cell_type": "markdown",
   "id": "299d8c8f",
   "metadata": {},
   "source": [
    "## Garbage Collection"
   ]
  },
  {
   "cell_type": "markdown",
   "id": "44013193",
   "metadata": {},
   "source": [
    "Python includes a cyclic garbage collector t handle reference cycles. Reference cycles occur when objects reference each other, preventing their reference counts from reaching zero."
   ]
  },
  {
   "cell_type": "code",
   "execution_count": 6,
   "id": "eb825c16",
   "metadata": {},
   "outputs": [],
   "source": [
    "import gc\n",
    "\n",
    "#enable garbage collection\n",
    "gc.enable()"
   ]
  },
  {
   "cell_type": "code",
   "execution_count": 7,
   "id": "2708f892",
   "metadata": {},
   "outputs": [],
   "source": [
    "gc.disable()"
   ]
  },
  {
   "cell_type": "code",
   "execution_count": 8,
   "id": "268d7c0e",
   "metadata": {},
   "outputs": [
    {
     "data": {
      "text/plain": [
       "131"
      ]
     },
     "execution_count": 8,
     "metadata": {},
     "output_type": "execute_result"
    }
   ],
   "source": [
    "gc.collect()"
   ]
  },
  {
   "cell_type": "code",
   "execution_count": 9,
   "id": "0b95cbd5",
   "metadata": {},
   "outputs": [
    {
     "name": "stdout",
     "output_type": "stream",
     "text": [
      "[{'collections': 186, 'collected': 1393, 'uncollectable': 0}, {'collections': 16, 'collected': 598, 'uncollectable': 0}, {'collections': 2, 'collected': 131, 'uncollectable': 0}]\n"
     ]
    }
   ],
   "source": [
    "##Get garabage collection stats\n",
    "\n",
    "print(gc.get_stats())"
   ]
  },
  {
   "cell_type": "code",
   "execution_count": 10,
   "id": "ac146035",
   "metadata": {},
   "outputs": [
    {
     "name": "stdout",
     "output_type": "stream",
     "text": [
      "[]\n"
     ]
    }
   ],
   "source": [
    "## get unreachable objects\n",
    "\n",
    "print(gc.garbage)"
   ]
  },
  {
   "cell_type": "markdown",
   "id": "9abf2e69",
   "metadata": {},
   "source": [
    "## Memory management best practices"
   ]
  },
  {
   "cell_type": "markdown",
   "id": "1ad58474",
   "metadata": {},
   "source": [
    "\n",
    "\n",
    "1. Use local variables: Local variables have a shorter lifespan andare freed sooner than global variables.\n",
    "2. Avoid Circular References: Circular references can lead to memory leaks if not properly managed.\n",
    "3. Use generators: Generators produce items one at a time and only kep one item in memory at a time,making them memory efficient.\n",
    "4. Explicitly Delete Objects: Use the del statement to delete variables and objects explicitly.\n",
    "5. Profile Memory Usage: Use memory profiling tools like tracemalloc and memory_profiler to identify memory leaks and optimize memoery usage."
   ]
  },
  {
   "cell_type": "code",
   "execution_count": 14,
   "id": "68c0d6c2",
   "metadata": {},
   "outputs": [
    {
     "name": "stdout",
     "output_type": "stream",
     "text": [
      "Object obj1 created.\n",
      "Object obj2 created.\n",
      "Object obj1 deleted.\n",
      "Object obj2 deleted.\n"
     ]
    },
    {
     "data": {
      "text/plain": [
       "9"
      ]
     },
     "execution_count": 14,
     "metadata": {},
     "output_type": "execute_result"
    }
   ],
   "source": [
    "#Handled ciricular reference\n",
    "import gc\n",
    "\n",
    "class MyObject:\n",
    "    def __init__(self,name):\n",
    "        self.name=name\n",
    "        print(f\"Object {self.name} created.\")\n",
    "\n",
    "    def __del__(self):\n",
    "        print(f\"Object {self.name} deleted.\")\n",
    "\n",
    "##Create circular reference\n",
    "\n",
    "obj1=MyObject(\"obj1\")\n",
    "obj2=MyObject(\"obj2\")\n",
    "obj1.ref=obj2\n",
    "obj2.ref=obj1\n",
    "\n",
    "del obj1\n",
    "del obj2\n",
    "\n",
    "#Manually trigger the garbage collection.\n",
    "\n",
    "gc.collect()"
   ]
  },
  {
   "cell_type": "markdown",
   "id": "111ea440",
   "metadata": {},
   "source": [
    "Generators for Memory efficiency"
   ]
  },
  {
   "cell_type": "markdown",
   "id": "93b8065b",
   "metadata": {},
   "source": [
    "Generators allow you to produce items one at a time, using memory efficiently by only keeping one item in memory at a time."
   ]
  },
  {
   "cell_type": "code",
   "execution_count": 15,
   "id": "ab5986d9",
   "metadata": {},
   "outputs": [
    {
     "name": "stdout",
     "output_type": "stream",
     "text": [
      "0\n",
      "1\n",
      "2\n",
      "3\n",
      "4\n",
      "5\n",
      "6\n",
      "7\n",
      "8\n",
      "9\n",
      "10\n",
      "11\n"
     ]
    }
   ],
   "source": [
    "def generate_numbers(n):\n",
    "    for i in range(n):\n",
    "        yield i\n",
    "\n",
    "##using the generator\n",
    "\n",
    "for num in generate_numbers(100000):\n",
    "    print(num)\n",
    "    if num>10:\n",
    "        break"
   ]
  },
  {
   "cell_type": "markdown",
   "id": "7cd4c60d",
   "metadata": {},
   "source": [
    "Profiling Memory Usage with tracemalloc"
   ]
  },
  {
   "cell_type": "code",
   "execution_count": 20,
   "id": "5c0f14f7",
   "metadata": {},
   "outputs": [],
   "source": [
    "import tracemalloc\n",
    "\n",
    "def create_list():\n",
    "    return [i for i in range(10000)]\n",
    "\n",
    "def main():\n",
    "    tracemalloc.start()\n",
    "\n",
    "    create_list()\n",
    "\n",
    "    snapshot= tracemalloc.take_snapshot()\n",
    "    top_stats= snapshot.statistics('lineno')\n",
    "\n",
    "    print(\"[Top 10]\")\n",
    "    for stat in top_stats[:10]:\n",
    "        print(stat)"
   ]
  },
  {
   "cell_type": "code",
   "execution_count": 21,
   "id": "5fc2324a",
   "metadata": {},
   "outputs": [
    {
     "name": "stdout",
     "output_type": "stream",
     "text": [
      "[Top 10]\n",
      "<frozen genericpath>:77: size=45.8 KiB, count=446, average=105 B\n",
      "C:\\Users\\cheta\\AppData\\Roaming\\Python\\Python311\\site-packages\\pygments\\style.py:94: size=21.8 KiB, count=340, average=66 B\n",
      "C:\\Users\\cheta\\AppData\\Roaming\\Python\\Python311\\site-packages\\pygments\\formatters\\terminal256.py:44: size=21.0 KiB, count=374, average=57 B\n",
      "C:\\Users\\cheta\\AppData\\Roaming\\Python\\Python311\\site-packages\\pygments\\lexer.py:508: size=17.2 KiB, count=220, average=80 B\n",
      "C:\\Users\\cheta\\AppData\\Roaming\\Python\\Python311\\site-packages\\pygments\\formatters\\terminal256.py:180: size=15.2 KiB, count=210, average=74 B\n",
      "c:\\Users\\cheta\\AppData\\Local\\Programs\\Python\\Python311\\Lib\\ast.py:50: size=15.1 KiB, count=183, average=85 B\n",
      "C:\\Users\\cheta\\AppData\\Roaming\\Python\\Python311\\site-packages\\pygments\\token.py:44: size=15.0 KiB, count=204, average=76 B\n",
      "C:\\Users\\cheta\\AppData\\Roaming\\Python\\Python311\\site-packages\\pygments\\lexer.py:591: size=14.8 KiB, count=251, average=60 B\n",
      "<string>:1: size=10.2 KiB, count=101, average=104 B\n",
      "C:\\Users\\cheta\\AppData\\Roaming\\Python\\Python311\\site-packages\\pygments\\formatters\\terminal256.py:242: size=10.2 KiB, count=71, average=147 B\n"
     ]
    }
   ],
   "source": [
    "main()"
   ]
  }
 ],
 "metadata": {
  "kernelspec": {
   "display_name": "Python 3",
   "language": "python",
   "name": "python3"
  },
  "language_info": {
   "codemirror_mode": {
    "name": "ipython",
    "version": 3
   },
   "file_extension": ".py",
   "mimetype": "text/x-python",
   "name": "python",
   "nbconvert_exporter": "python",
   "pygments_lexer": "ipython3",
   "version": "3.11.0"
  }
 },
 "nbformat": 4,
 "nbformat_minor": 5
}
