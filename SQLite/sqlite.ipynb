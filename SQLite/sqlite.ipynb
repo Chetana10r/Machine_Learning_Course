{
 "cells": [
  {
   "cell_type": "markdown",
   "id": "0f755670",
   "metadata": {},
   "source": [
    "# SQL and SQLite"
   ]
  },
  {
   "cell_type": "markdown",
   "id": "cf6cc3b9",
   "metadata": {},
   "source": [
    "SQL(Structured Query Language) is a standard language for managing and manipulating rlational databases. SQLite is a self-contained, and zero configuration database engine that is widely used for embedded database system. In this lesson, we will cover the basics of SQL and SQLite, including creating databases, tables, and performing various SQL operations."
   ]
  },
  {
   "cell_type": "code",
   "execution_count": 1,
   "id": "5204c0bb",
   "metadata": {},
   "outputs": [],
   "source": [
    "import sqlite3"
   ]
  },
  {
   "cell_type": "code",
   "execution_count": 3,
   "id": "9bd4f3f5",
   "metadata": {},
   "outputs": [
    {
     "data": {
      "text/plain": [
       "<sqlite3.Connection at 0x20a6b33bb50>"
      ]
     },
     "execution_count": 3,
     "metadata": {},
     "output_type": "execute_result"
    }
   ],
   "source": [
    "#Connect to an SQlite database\n",
    "\n",
    "connection= sqlite3.connect('Example.db')\n",
    "connection\n"
   ]
  },
  {
   "cell_type": "code",
   "execution_count": 4,
   "id": "51b9af3d",
   "metadata": {},
   "outputs": [],
   "source": [
    "cursor=connection.cursor()"
   ]
  },
  {
   "cell_type": "code",
   "execution_count": 5,
   "id": "9dccb5f2",
   "metadata": {},
   "outputs": [
    {
     "data": {
      "text/plain": [
       "<sqlite3.Cursor at 0x20a6ba26e40>"
      ]
     },
     "execution_count": 5,
     "metadata": {},
     "output_type": "execute_result"
    }
   ],
   "source": [
    "##Create a table\n",
    "\n",
    "cursor.execute(''' \n",
    "create table If Not Exists employees(\n",
    "               id Integer Primary Key,\n",
    "               name Text Not Null,\n",
    "               age Integer,\n",
    "               department text)\n",
    "''')"
   ]
  },
  {
   "cell_type": "code",
   "execution_count": 6,
   "id": "b02e894f",
   "metadata": {},
   "outputs": [],
   "source": [
    "#Commit the changes\n",
    "\n",
    "connection.commit()"
   ]
  },
  {
   "cell_type": "code",
   "execution_count": 7,
   "id": "b733a18d",
   "metadata": {},
   "outputs": [
    {
     "data": {
      "text/plain": [
       "<sqlite3.Cursor at 0x20a6ba26e40>"
      ]
     },
     "execution_count": 7,
     "metadata": {},
     "output_type": "execute_result"
    }
   ],
   "source": [
    "cursor.execute('''\n",
    "select * from employees;\n",
    "\n",
    " ''')"
   ]
  },
  {
   "cell_type": "code",
   "execution_count": 9,
   "id": "8f7132b4",
   "metadata": {},
   "outputs": [],
   "source": [
    "# insert the data in sqlite table\n",
    "\n",
    "cursor.execute(''' \n",
    "insert into employees(name,age,department)\n",
    "               values('chetana',21,'MSc')\n",
    "''')\n",
    "\n",
    "cursor.execute(''' \n",
    "insert into employees(name,age,department)\n",
    "               values('Arya',22,'MSc')\n",
    "''')\n",
    "\n",
    "#commit the changes\n",
    "\n",
    "connection.commit()\n"
   ]
  },
  {
   "cell_type": "code",
   "execution_count": null,
   "id": "c27bb14d",
   "metadata": {},
   "outputs": [],
   "source": [
    "## Queerying the data from the table\n",
    "\n",
    "cursor.execute('select * from employees;')\n",
    "\n",
    "rows=cursor.fetchall()"
   ]
  },
  {
   "cell_type": "code",
   "execution_count": 12,
   "id": "2dfec3e3",
   "metadata": {},
   "outputs": [
    {
     "name": "stdout",
     "output_type": "stream",
     "text": [
      "(1, 'chetana', 21, 'MSc')\n",
      "(2, 'Arya', 22, 'MSc')\n"
     ]
    }
   ],
   "source": [
    "##print the queried data\n",
    "\n",
    "for row in rows:\n",
    "    print(row)\n"
   ]
  },
  {
   "cell_type": "code",
   "execution_count": 13,
   "id": "55150409",
   "metadata": {},
   "outputs": [],
   "source": [
    "#Update the data in the table"
   ]
  },
  {
   "cell_type": "code",
   "execution_count": 14,
   "id": "1e6de6ec",
   "metadata": {},
   "outputs": [
    {
     "data": {
      "text/plain": [
       "<sqlite3.Cursor at 0x20a6ba26e40>"
      ]
     },
     "execution_count": 14,
     "metadata": {},
     "output_type": "execute_result"
    }
   ],
   "source": [
    "cursor.execute('''  \n",
    "UPDATE employees\n",
    "               set age=25\n",
    "               where name=\"Arya\"\n",
    "''')"
   ]
  },
  {
   "cell_type": "code",
   "execution_count": 15,
   "id": "a189f3d0",
   "metadata": {},
   "outputs": [],
   "source": [
    "connection.commit()"
   ]
  },
  {
   "cell_type": "code",
   "execution_count": 16,
   "id": "814006e2",
   "metadata": {},
   "outputs": [],
   "source": [
    "## Queerying the data from the table\n",
    "\n",
    "cursor.execute('select * from employees;')\n",
    "\n",
    "rows=cursor.fetchall()"
   ]
  },
  {
   "cell_type": "code",
   "execution_count": 17,
   "id": "39c25834",
   "metadata": {},
   "outputs": [
    {
     "name": "stdout",
     "output_type": "stream",
     "text": [
      "(1, 'chetana', 21, 'MSc')\n",
      "(2, 'Arya', 25, 'MSc')\n"
     ]
    }
   ],
   "source": [
    "##print the queried data\n",
    "\n",
    "for row in rows:\n",
    "    print(row)"
   ]
  },
  {
   "cell_type": "code",
   "execution_count": 21,
   "id": "025c544a",
   "metadata": {},
   "outputs": [
    {
     "data": {
      "text/plain": [
       "<sqlite3.Cursor at 0x20a6ba26e40>"
      ]
     },
     "execution_count": 21,
     "metadata": {},
     "output_type": "execute_result"
    }
   ],
   "source": [
    "# Delete the data from the table\n",
    "\n",
    "cursor.execute(\" Delete from employees where name='Arya' \")"
   ]
  },
  {
   "cell_type": "code",
   "execution_count": 22,
   "id": "db43defd",
   "metadata": {},
   "outputs": [],
   "source": [
    "connection.commit()"
   ]
  },
  {
   "cell_type": "code",
   "execution_count": 23,
   "id": "080bbdce",
   "metadata": {},
   "outputs": [],
   "source": [
    "## Queerying the data from the table\n",
    "\n",
    "cursor.execute('select * from employees;')\n",
    "\n",
    "rows=cursor.fetchall()"
   ]
  },
  {
   "cell_type": "code",
   "execution_count": 24,
   "id": "d5ad3535",
   "metadata": {},
   "outputs": [
    {
     "name": "stdout",
     "output_type": "stream",
     "text": [
      "(1, 'chetana', 21, 'MSc')\n"
     ]
    }
   ],
   "source": [
    "##print the queried data\n",
    "\n",
    "for row in rows:\n",
    "    print(row)"
   ]
  },
  {
   "cell_type": "markdown",
   "id": "b77cd664",
   "metadata": {},
   "source": [
    "Working with Sales Data"
   ]
  },
  {
   "cell_type": "code",
   "execution_count": 26,
   "id": "96562179",
   "metadata": {},
   "outputs": [],
   "source": [
    "# Connect to an SQLite database\n",
    "\n",
    "connection=sqlite3.connect('sales_data.db')\n",
    "cursor=connection.cursor()"
   ]
  },
  {
   "cell_type": "code",
   "execution_count": 29,
   "id": "1a97e99a",
   "metadata": {},
   "outputs": [
    {
     "data": {
      "text/plain": [
       "<sqlite3.Cursor at 0x20a6c845e40>"
      ]
     },
     "execution_count": 29,
     "metadata": {},
     "output_type": "execute_result"
    }
   ],
   "source": [
    "#Create a table for sales data\n",
    "\n",
    "cursor.execute('''\n",
    "create table if not exists sales(\n",
    "               id integer primary key,\n",
    "               date text not null,\n",
    "               product text not null,\n",
    "               sales integer,\n",
    "               region text)\n",
    "''')"
   ]
  },
  {
   "cell_type": "code",
   "execution_count": 30,
   "id": "58a083d5",
   "metadata": {},
   "outputs": [],
   "source": [
    "connection.commit()"
   ]
  },
  {
   "cell_type": "code",
   "execution_count": 32,
   "id": "aa05990d",
   "metadata": {},
   "outputs": [],
   "source": [
    "#Insert data into the sales table\n",
    "\n",
    "sales_data= [\n",
    "    ('2024-01-01', 'Product1', 100, 'North'),\n",
    "    ('2024-01-02', 'Product2', 200, 'West'),\n",
    "    ('2024-01-03', 'Product3', 300, 'East'),\n",
    "    ('2024-01-04', 'Product4', 400, 'South'),\n",
    "    ('2024-01-05', 'Product5', 500, 'North')  \n",
    "]"
   ]
  },
  {
   "cell_type": "code",
   "execution_count": 33,
   "id": "4a86dbc7",
   "metadata": {},
   "outputs": [],
   "source": [
    "connection.commit()"
   ]
  },
  {
   "cell_type": "code",
   "execution_count": 35,
   "id": "2764332b",
   "metadata": {},
   "outputs": [],
   "source": [
    "cursor.executemany('''\n",
    "insert into sales(date,product,sales,region)\n",
    "                    values(?,?,?,?)\n",
    "''',sales_data)\n",
    "\n",
    "connection.commit()"
   ]
  },
  {
   "cell_type": "code",
   "execution_count": 36,
   "id": "cc5f8fcb",
   "metadata": {},
   "outputs": [],
   "source": [
    "#Query data from the sales table\n",
    "\n",
    "cursor.execute('Select * from sales')\n",
    "rows=cursor.fetchall()"
   ]
  },
  {
   "cell_type": "code",
   "execution_count": 37,
   "id": "4f1ce487",
   "metadata": {},
   "outputs": [
    {
     "name": "stdout",
     "output_type": "stream",
     "text": [
      "(1, '2024-01-01', 'Product1', 100, 'North')\n",
      "(2, '2024-01-02', 'Product2', 200, 'West')\n",
      "(3, '2024-01-03', 'Product3', 300, 'East')\n",
      "(4, '2024-01-04', 'Product4', 400, 'South')\n",
      "(5, '2024-01-05', 'Product5', 500, 'North')\n"
     ]
    }
   ],
   "source": [
    "#Print the queried data\n",
    "for row in rows:\n",
    "    print(row)"
   ]
  },
  {
   "cell_type": "code",
   "execution_count": 38,
   "id": "fbe1ccc2",
   "metadata": {},
   "outputs": [],
   "source": [
    "#close the connection\n",
    "\n",
    "connection.close()"
   ]
  }
 ],
 "metadata": {
  "kernelspec": {
   "display_name": "base",
   "language": "python",
   "name": "python3"
  },
  "language_info": {
   "codemirror_mode": {
    "name": "ipython",
    "version": 3
   },
   "file_extension": ".py",
   "mimetype": "text/x-python",
   "name": "python",
   "nbconvert_exporter": "python",
   "pygments_lexer": "ipython3",
   "version": "3.12.7"
  }
 },
 "nbformat": 4,
 "nbformat_minor": 5
}
