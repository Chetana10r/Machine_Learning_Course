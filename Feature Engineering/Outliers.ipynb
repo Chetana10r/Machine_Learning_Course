{
 "cells": [
  {
   "cell_type": "markdown",
   "id": "f476c688",
   "metadata": {},
   "source": [
    "5 number summary and box plot"
   ]
  },
  {
   "cell_type": "markdown",
   "id": "4844a25e",
   "metadata": {},
   "source": [
    "Minimum.maximum,median,Q1,Q3,IQR"
   ]
  },
  {
   "cell_type": "code",
   "execution_count": 1,
   "id": "572d4bdd",
   "metadata": {},
   "outputs": [],
   "source": [
    "import numpy as np"
   ]
  },
  {
   "cell_type": "code",
   "execution_count": 2,
   "id": "e926eb30",
   "metadata": {},
   "outputs": [],
   "source": [
    "lst_marks=[45,56,89,54,23,67,59,69,56,34,52,81,69,69,99]\n",
    "mimimum,Q1,median,Q3,maximum=np.quantile(lst_marks,[0,0.25,0.50,0.75,1.0])"
   ]
  },
  {
   "cell_type": "code",
   "execution_count": 4,
   "id": "356b0707",
   "metadata": {},
   "outputs": [
    {
     "data": {
      "text/plain": [
       "(23.0, 53.0, 59.0, 69.0, 99.0)"
      ]
     },
     "execution_count": 4,
     "metadata": {},
     "output_type": "execute_result"
    }
   ],
   "source": [
    "mimimum,Q1,median,Q3,maximum"
   ]
  },
  {
   "cell_type": "code",
   "execution_count": 5,
   "id": "651ff9dc",
   "metadata": {},
   "outputs": [
    {
     "data": {
      "text/plain": [
       "16.0"
      ]
     },
     "execution_count": 5,
     "metadata": {},
     "output_type": "execute_result"
    }
   ],
   "source": [
    "IQR=Q3-Q1\n",
    "IQR"
   ]
  },
  {
   "cell_type": "code",
   "execution_count": 6,
   "id": "e4150207",
   "metadata": {},
   "outputs": [],
   "source": [
    "lower_fetch=Q1-1.5*(IQR)\n",
    "higher_fetch=Q3+1.5*(IQR)"
   ]
  },
  {
   "cell_type": "code",
   "execution_count": 7,
   "id": "beb0d4c7",
   "metadata": {},
   "outputs": [
    {
     "data": {
      "text/plain": [
       "29.0"
      ]
     },
     "execution_count": 7,
     "metadata": {},
     "output_type": "execute_result"
    }
   ],
   "source": [
    "lower_fetch"
   ]
  },
  {
   "cell_type": "code",
   "execution_count": 8,
   "id": "ba61c763",
   "metadata": {},
   "outputs": [
    {
     "data": {
      "text/plain": [
       "93.0"
      ]
     },
     "execution_count": 8,
     "metadata": {},
     "output_type": "execute_result"
    }
   ],
   "source": [
    "higher_fetch"
   ]
  },
  {
   "cell_type": "code",
   "execution_count": 9,
   "id": "8a75eeb9",
   "metadata": {},
   "outputs": [],
   "source": [
    "import seaborn as sns"
   ]
  },
  {
   "cell_type": "code",
   "execution_count": 10,
   "id": "a157b4da",
   "metadata": {},
   "outputs": [
    {
     "data": {
      "text/plain": [
       "<Axes: >"
      ]
     },
     "execution_count": 10,
     "metadata": {},
     "output_type": "execute_result"
    },
    {
     "data": {
      "image/png": "[encoded data removed]",
      "text/plain": [
       "<Figure size 640x480 with 1 Axes>"
      ]
     },
     "metadata": {},
     "output_type": "display_data"
    }
   ],
   "source": [
    "sns.boxplot(lst_marks)"
   ]
  }
 ],
 "metadata": {
  "kernelspec": {
   "display_name": "base",
   "language": "python",
   "name": "python3"
  },
  "language_info": {
   "codemirror_mode": {
    "name": "ipython",
    "version": 3
   },
   "file_extension": ".py",
   "mimetype": "text/x-python",
   "name": "python",
   "nbconvert_exporter": "python",
   "pygments_lexer": "ipython3",
   "version": "3.12.7"
  }
 },
 "nbformat": 4,
 "nbformat_minor": 5
}
